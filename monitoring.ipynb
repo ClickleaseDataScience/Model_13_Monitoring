{
 "cells": [
  {
   "cell_type": "code",
   "execution_count": null,
   "metadata": {},
   "outputs": [],
   "source": [
    "import pandas as pd\n",
    "import xgboost as xgb\n",
    "import snowflake.connector\n",
    "import pandas as pd\n",
    "import matplotlib.pyplot as plt\n",
    "from sklearn.metrics import roc_auc_score\n",
    "\n",
    "pd.options.display.max_columns = None\n",
    "\n",
    "#import ignored\n"
   ]
  },
  {
   "cell_type": "code",
   "execution_count": null,
   "metadata": {},
   "outputs": [],
   "source": [
    "# Read in processed training data\n",
    "\n",
    "s3_path = 's3://colby-wight/Model_13_train.csv'\n",
    "df_train = pd.read_csv(s3_path)\n",
    "\n",
    "# remove columns that aren't features\n",
    "df_train = df_train.drop(['y_30_dpd_120', 'contract_date', 'application_id', 'y_pred', 'corelIdScore_999_flag', 'vendor_classification_new'], axis=1)"
   ]
  },
  {
   "cell_type": "code",
   "execution_count": null,
   "metadata": {},
   "outputs": [],
   "source": [
    "# Read in deployment data\n",
    "\n",
    "#user = ignored.snowflake_user\n",
    "#password = ignored.snowflake_password\n",
    "\n",
    "conn = snowflake.connector.connect(\n",
    "                account = 'byb44065.us-east-1',\n",
    "                user = 'JCANDIDO',\n",
    "                password = 'SigristBhatia1!',\n",
    "                database = 'BRZ_CLKDATA_LEGACY',\n",
    "                schema = 'DBO',\n",
    "                warehouse = 'WH_DATA_SCIENTISTS'\n",
    "            )\n",
    "\n",
    "query = \"\"\"\n",
    "SELECT \n",
    "    tpp_log.id,\n",
    "    tpp_log.application_id,\n",
    "    tpp_log.created_ts,\n",
    "    application.status,\n",
    "    application.MR_DATAROBOT_MODEL_ID,\n",
    "    -- shared features \n",
    "    TO_DOUBLE(PARSE_JSON(tpp_content):experian_experianProfileSummary_installmentBalance) AS experian_experianProfileSummary_installmentBalance,\n",
    "    TO_DOUBLE(PARSE_JSON(tpp_content):experian_experianProfileSummary_totalRevolvingBalance) AS experian_experianProfileSummary_totalRevolvingBalance,\n",
    "    TO_DOUBLE(PARSE_JSON(tpp_content):experian_experianProfileSummary_totalRevolvingAvailablePercent) AS experian_experianProfileSummary_totalRevolvingAvailablePercent,\n",
    "    TO_DOUBLE(PARSE_JSON(tpp_content):experian_experianProfileSummary_pastDueAmount) AS experian_experianProfileSummary_pastDueAmount,\n",
    "    TO_DOUBLE(PARSE_JSON(tpp_content):experian_experianProfileSummary_monthlyPayment) AS experian_experianProfileSummary_monthlyPayment,\n",
    "    TO_DOUBLE(PARSE_JSON(tpp_content):experian_experianProfileSummary_inquiriesDuringLastSixMonthsCounter) AS experian_experianProfileSummary_inquiriesDuringLastSixMonthsCounter,\n",
    "    TO_DOUBLE(PARSE_JSON(tpp_content):experian_experianProfileSummary_totalInquiriesCounter) AS experian_experianProfileSummary_totalInquiriesCounter,\n",
    "    TO_DOUBLE(PARSE_JSON(tpp_content):experian_experianProfileSummary_totalTradeItemsCounter) AS experian_experianProfileSummary_totalTradeItemsCounter,\n",
    "    TO_DOUBLE(PARSE_JSON(tpp_content):experian_experianProfileSummary_paidAccountsCounter) AS experian_experianProfileSummary_paidAccountsCounter,\n",
    "    TO_DOUBLE(PARSE_JSON(tpp_content):experian_experianProfileSummary_wasDelinquentDerogCounter) AS experian_experianProfileSummary_wasDelinquentDerogCounter,\n",
    "    TO_DOUBLE(PARSE_JSON(tpp_content):experian_experianProfileSummary_thirtyDayCounter) AS experian_experianProfileSummary_thirtyDayCounter,\n",
    "    TO_DOUBLE(PARSE_JSON(tpp_content):experian_experianProfileSummary_ninetyPlusDayCounter) AS experian_experianProfileSummary_ninetyPlusDayCounter,\n",
    "    TO_DOUBLE(PARSE_JSON(tpp_content):experian_experianProfileSummary_derogCounter) AS experian_experianProfileSummary_derogCounter,\n",
    "    TO_DOUBLE(PARSE_JSON(tpp_content):experian_experianRiskModel_V3) AS experian_experianRiskModel_V3,\n",
    "    TO_DOUBLE(PARSE_JSON(tpp_content):experian_experianRiskModel_RC) AS experian_experianRiskModel_RC,\n",
    "    TO_DOUBLE(PARSE_JSON(tpp_content):datax_dataxReport_idaScore) AS datax_dataxReport_idaScore,\n",
    "    TO_DOUBLE(PARSE_JSON(tpp_content):coreLogic_coreLogicInquiryReport_corelIdScore) AS coreLogic_coreLogicInquiryReport_corelIdScore,\n",
    "    TO_DOUBLE(PARSE_JSON(tpp_content):coreLogic_coreLogicApplicantVariable_TTInqall00) AS coreLogic_coreLogicApplicantVariable_TTInqall00,\n",
    "    TO_DOUBLE(PARSE_JSON(tpp_content):coreLogic_coreLogicApplicantVariable_TTRecinqm) AS coreLogic_coreLogicApplicantVariable_TTRecinqm,\n",
    "    PARSE_JSON(tpp_content):vendor_equipment_type::STRING AS vendor_equipment_type\n",
    "FROM application \n",
    "left join tpp_log on application.id = tpp_log.application_id\n",
    "WHERE tpp_type_id = 5 \n",
    "  AND response = FALSE\n",
    "  AND COALESCE(\n",
    "        TO_DOUBLE(PARSE_JSON(tpp_content):datax_dataxReport_idaScore),\n",
    "        TO_DOUBLE(PARSE_JSON(tpp_content):coreLogic_coreLogicInquiryReport_corelIdScore),\n",
    "        TO_DOUBLE(PARSE_JSON(tpp_content):coreLogic_coreLogicApplicantVariable_TTRecinqm)\n",
    "    ) IS NOT NULL\n",
    "  -- AND application_id = 757694\n",
    "  AND tpp_log.created_ts >= '2024-12-11 00:00:00.000'\n",
    "  -- ANd tpp_log.created_ts <= '2024-12-09 18:06:02.051239' -- to keep the dataset constant during developement\n",
    "  ORDER by APPLICATION_ID\"\"\"\n",
    "\n",
    "df = pd.read_sql(query, conn)\n",
    "conn.close()\n",
    "\n",
    "# Filter for funded apps\n",
    "df = df[(df['STATUS']=='FUNDED') & (df['MR_DATAROBOT_MODEL_ID'] == 13)]\n",
    "\n",
    "# Remove where TTINqall_00 is 0 since this will be for model 11 and not model 13. \n",
    "df = df[df['CORELOGIC_CORELOGICAPPLICANTVARIABLE_TTINQALL00']!=0]\n",
    "# Remove duplicates. Since model 11 and 13 get the same features. \n",
    "cols = ['APPLICATION_ID', 'EXPERIAN_EXPERIANPROFILESUMMARY_INSTALLMENTBALANCE',\n",
    "       'EXPERIAN_EXPERIANPROFILESUMMARY_TOTALREVOLVINGBALANCE',\n",
    "       'EXPERIAN_EXPERIANPROFILESUMMARY_PASTDUEAMOUNT',\n",
    "       'EXPERIAN_EXPERIANPROFILESUMMARY_MONTHLYPAYMENT',\n",
    "       'EXPERIAN_EXPERIANPROFILESUMMARY_TOTALREVOLVINGAVAILABLEPERCENT',\n",
    "       'EXPERIAN_EXPERIANPROFILESUMMARY_TOTALINQUIRIESCOUNTER',\n",
    "       'EXPERIAN_EXPERIANPROFILESUMMARY_INQUIRIESDURINGLASTSIXMONTHSCOUNTER',\n",
    "       'EXPERIAN_EXPERIANPROFILESUMMARY_TOTALTRADEITEMSCOUNTER',\n",
    "       'EXPERIAN_EXPERIANPROFILESUMMARY_PAIDACCOUNTSCOUNTER',\n",
    "       'EXPERIAN_EXPERIANPROFILESUMMARY_WASDELINQUENTDEROGCOUNTER',\n",
    "       'EXPERIAN_EXPERIANPROFILESUMMARY_THIRTYDAYCOUNTER',\n",
    "       'EXPERIAN_EXPERIANPROFILESUMMARY_NINETYPLUSDAYCOUNTER',\n",
    "       'EXPERIAN_EXPERIANPROFILESUMMARY_DEROGCOUNTER',\n",
    "       'EXPERIAN_EXPERIANRISKMODEL_RC', 'EXPERIAN_EXPERIANRISKMODEL_V3',\n",
    "       'CORELOGIC_CORELOGICAPPLICANTVARIABLE_TTINQALL00',\n",
    "       'DATAX_DATAXREPORT_IDASCORE',\n",
    "       'CORELOGIC_CORELOGICINQUIRYREPORT_CORELIDSCORE',\n",
    "       'CORELOGIC_CORELOGICAPPLICANTVARIABLE_TTRECINQM',\n",
    "       'VENDOR_EQUIPMENT_TYPE']\n",
    "\n",
    "df = df[~df[cols].duplicated()]\n",
    "\n",
    "print(df.shape)\n",
    "print(df['APPLICATION_ID'].nunique())\n",
    "df.head()\n",
    "\n",
    "# align feature names \n",
    "train_names = ['experian_experianProfileSummary_installmentBalance',\n",
    "       'experian_experianProfileSummary_totalRevolvingBalance',\n",
    "       'experian_experianProfileSummary_totalRevolvingAvailablePercent',\n",
    "       'experian_experianProfileSummary_pastDueAmount',\n",
    "       'experian_experianProfileSummary_monthlyPayment',\n",
    "       'experian_experianProfileSummary_inquiriesDuringLastSixMonthsCounter',\n",
    "       'experian_experianProfileSummary_totalInquiriesCounter',\n",
    "       'experian_experianProfileSummary_totalTradeItemsCounter',\n",
    "       'experian_experianProfileSummary_paidAccountsCounter',\n",
    "       'experian_experianProfileSummary_wasDelinquentDerogCounter',\n",
    "       'experian_experianProfileSummary_thirtyDayCounter',\n",
    "       'experian_experianProfileSummary_ninetyPlusDayCounter',\n",
    "       'experian_experianProfileSummary_derogCounter',\n",
    "       'experian_experianRiskModel_V3', \n",
    "       'experian_experianRiskModel_RC',\n",
    "       'datax_dataxReport_idaScore',\n",
    "       'coreLogic_coreLogicInquiryReport_corelIdScore',\n",
    "       'coreLogic_coreLogicApplicantVariable_TTInqall00',\n",
    "       'coreLogic_coreLogicApplicantVariable_TTRecinqm', \n",
    "       'vendor_equipment_type']\n",
    "\n",
    "prod_names = ['EXPERIAN_EXPERIANPROFILESUMMARY_INSTALLMENTBALANCE',\n",
    "       'EXPERIAN_EXPERIANPROFILESUMMARY_TOTALREVOLVINGBALANCE',\n",
    "       'EXPERIAN_EXPERIANPROFILESUMMARY_TOTALREVOLVINGAVAILABLEPERCENT',\n",
    "       'EXPERIAN_EXPERIANPROFILESUMMARY_PASTDUEAMOUNT',\n",
    "       'EXPERIAN_EXPERIANPROFILESUMMARY_MONTHLYPAYMENT',\n",
    "       'EXPERIAN_EXPERIANPROFILESUMMARY_INQUIRIESDURINGLASTSIXMONTHSCOUNTER',\n",
    "       'EXPERIAN_EXPERIANPROFILESUMMARY_TOTALINQUIRIESCOUNTER',\n",
    "       'EXPERIAN_EXPERIANPROFILESUMMARY_TOTALTRADEITEMSCOUNTER',\n",
    "       'EXPERIAN_EXPERIANPROFILESUMMARY_PAIDACCOUNTSCOUNTER',\n",
    "       'EXPERIAN_EXPERIANPROFILESUMMARY_WASDELINQUENTDEROGCOUNTER',\n",
    "       'EXPERIAN_EXPERIANPROFILESUMMARY_THIRTYDAYCOUNTER',\n",
    "       'EXPERIAN_EXPERIANPROFILESUMMARY_NINETYPLUSDAYCOUNTER',\n",
    "       'EXPERIAN_EXPERIANPROFILESUMMARY_DEROGCOUNTER',\n",
    "       'EXPERIAN_EXPERIANRISKMODEL_V3', 'EXPERIAN_EXPERIANRISKMODEL_RC',\n",
    "       'DATAX_DATAXREPORT_IDASCORE',\n",
    "       'CORELOGIC_CORELOGICINQUIRYREPORT_CORELIDSCORE',\n",
    "       'CORELOGIC_CORELOGICAPPLICANTVARIABLE_TTINQALL00',\n",
    "       'CORELOGIC_CORELOGICAPPLICANTVARIABLE_TTRECINQM',\n",
    "       'VENDOR_EQUIPMENT_TYPE']\n",
    "\n",
    "dict(zip(train_names,prod_names))\n",
    "\n",
    "df = df.rename(dict(zip(prod_names, train_names)), axis=1)"
   ]
  },
  {
   "cell_type": "code",
   "execution_count": null,
   "metadata": {},
   "outputs": [],
   "source": [
    "df"
   ]
  },
  {
   "cell_type": "code",
   "execution_count": null,
   "metadata": {},
   "outputs": [],
   "source": [
    "# Process production data \n",
    "\n",
    "df.loc[df['coreLogic_coreLogicInquiryReport_corelIdScore'] == 999, 'coreLogic_coreLogicInquiryReport_corelIdScore'] = -99\n",
    "df['rc_9105_flag'] = df['experian_experianRiskModel_RC'].apply(lambda x: 1 if x == 9105 else 0)\n",
    "df.loc[df['experian_experianRiskModel_RC'] == 9105, 'experian_experianRiskModel_RC'] = -99\n",
    "\n",
    "cond = (df['experian_experianRiskModel_V3'] != -99) & (~df['experian_experianRiskModel_V3'].between(300, 850))\n",
    "df.loc[cond, 'experian_experianRiskModel_V3'] = 500\n",
    "\n",
    "equipment_types = ['Trailers', 'Industrial', 'Food Service', 'Construction/Landscaping', 'Automotive', 'Janitorial/Remediation','Food Truck', 'DTG/Embroidery', 'Entertainment/Amusement', 'Photo-A/V', 'Rental', 'Office/Printing']  \n",
    "def set_equipment_group_new(vendor_class):\n",
    "    if vendor_class in equipment_types:\n",
    "        return vendor_class\n",
    "    else:\n",
    "        return 'Other'\n",
    "      \n",
    "df['vendor_classification_new'] = df['vendor_equipment_type'].apply(set_equipment_group_new).astype('category')\n",
    "df = df.drop(['vendor_equipment_type'], axis=1)\n",
    "\n",
    "dummy_columns = [\"equipment_type_Automotive\",\n",
    "                    \"equipment_type_Construction/Landscaping\",\n",
    "                    \"equipment_type_DTG/Embroidery\",\n",
    "                    \"equipment_type_Entertainment/Amusement\",\n",
    "                    \"equipment_type_Food Service\",\n",
    "                    \"equipment_type_Food Truck\",\n",
    "                    \"equipment_type_Industrial\",\n",
    "                    \"equipment_type_Janitorial/Remediation\",\n",
    "                    \"equipment_type_Office/Printing\",\n",
    "                    \"equipment_type_Other\",\n",
    "                    \"equipment_type_Photo-A/V\",\n",
    "                    \"equipment_type_Rental\",\n",
    "                    \"equipment_type_Trailers\"]\n",
    "\n",
    "dummies = pd.get_dummies(df['vendor_classification_new'], prefix='equipment_type', dtype=int)\n",
    "dummies = dummies.reindex(columns=dummy_columns, fill_value=0)\n",
    "df = pd.concat([df, dummies], axis=1)\n",
    "df = df.drop(['vendor_classification_new'], axis=1)\n",
    "\n",
    "df = df.drop(['ID', 'APPLICATION_ID', 'CREATED_TS', 'STATUS'], axis=1)\n"
   ]
  },
  {
   "cell_type": "code",
   "execution_count": null,
   "metadata": {},
   "outputs": [],
   "source": [
    "unfixed_industry_columns = ['equipment_type_Automotive', 'equipment_type_Construction_Landscaping',\n",
    "       'equipment_type_DTG_Embroidery',\n",
    "       'equipment_type_Entertainment_Amusement', 'equipment_type_Food_Service',\n",
    "       'equipment_type_Food_Truck', 'equipment_type_Industrial',\n",
    "       'equipment_type_Janitorial_Remediation',\n",
    "       'equipment_type_Office_Printing', 'equipment_type_Other',\n",
    "       'equipment_type_Photo_A_V', 'equipment_type_Rental',\n",
    "       'equipment_type_Trailers']\n",
    "\n",
    "dict(zip(unfixed_industry_columns, dummy_columns))\n",
    "\n",
    "df_train = df_train.rename(dict(zip(unfixed_industry_columns, dummy_columns)), axis=1)"
   ]
  },
  {
   "cell_type": "code",
   "execution_count": null,
   "metadata": {},
   "outputs": [],
   "source": [
    "# Add target and create final df\n",
    "df['target'] = 1\n",
    "df_train['target'] = 0\n",
    "df_final = pd.concat([df, df_train], ignore_index=True)"
   ]
  },
  {
   "cell_type": "code",
   "execution_count": null,
   "metadata": {},
   "outputs": [],
   "source": [
    "df_final['target'].value_counts()"
   ]
  },
  {
   "cell_type": "code",
   "execution_count": null,
   "metadata": {},
   "outputs": [],
   "source": [
    "# Train xgb model \n",
    "\n",
    "X = df_final.drop('target', axis=1)\n",
    "y = df_final['target']\n",
    "\n",
    "dtrain = xgb.DMatrix(X, label=y, missing=-99)\n",
    "\n",
    "# Parameters for XGBoost\n",
    "params = {\n",
    "    'objective': 'binary:logistic',  \n",
    "    'eval_metric': 'logloss',   \n",
    "    'max_leaves': 2,\n",
    "    'grow_policy': 'lossguide',        \n",
    "    'eta': 1,                     \n",
    "    'subsample': 1,              \n",
    "    'colsample_bytree': 1,        \n",
    "    'seed': 42                      \n",
    "}\n",
    "\n",
    "num_round = 10\n",
    "\n",
    "model = xgb.train(params, dtrain, num_boost_round=num_round)"
   ]
  },
  {
   "cell_type": "code",
   "execution_count": null,
   "metadata": {},
   "outputs": [],
   "source": [
    "y_pred = model.predict(dtrain)"
   ]
  },
  {
   "cell_type": "code",
   "execution_count": null,
   "metadata": {},
   "outputs": [],
   "source": [
    "xgb.plot_importance(model, importance_type='weight')\n"
   ]
  },
  {
   "cell_type": "code",
   "execution_count": null,
   "metadata": {},
   "outputs": [],
   "source": [
    "xgb.plot_importance(model, importance_type='gain')"
   ]
  },
  {
   "cell_type": "code",
   "execution_count": null,
   "metadata": {},
   "outputs": [],
   "source": [
    "xgb.to_graphviz(model, num_trees=3)"
   ]
  },
  {
   "cell_type": "code",
   "execution_count": null,
   "metadata": {},
   "outputs": [],
   "source": [
    "df['coreLogic_coreLogicApplicantVariable_TTRecinqm'].value_counts(dropna = True)"
   ]
  },
  {
   "cell_type": "code",
   "execution_count": null,
   "metadata": {},
   "outputs": [],
   "source": [
    "df['coreLogic_coreLogicApplicantVariable_TTRecinqm'].value_counts(dropna = True, normalize = True)"
   ]
  },
  {
   "cell_type": "code",
   "execution_count": null,
   "metadata": {},
   "outputs": [],
   "source": [
    "df_train['coreLogic_coreLogicApplicantVariable_TTRecinqm'].value_counts(dropna = True, normalize = True)"
   ]
  },
  {
   "cell_type": "code",
   "execution_count": null,
   "metadata": {},
   "outputs": [],
   "source": [
    "df['coreLogic_coreLogicApplicantVariable_TTRecinqm'].hist()"
   ]
  },
  {
   "cell_type": "code",
   "execution_count": null,
   "metadata": {},
   "outputs": [],
   "source": [
    "df_train['coreLogic_coreLogicApplicantVariable_TTRecinqm'].hist()"
   ]
  },
  {
   "cell_type": "code",
   "execution_count": null,
   "metadata": {},
   "outputs": [],
   "source": [
    "df['experian_experianProfileSummary_totalInquiriesCounter'].hist()"
   ]
  },
  {
   "cell_type": "code",
   "execution_count": null,
   "metadata": {},
   "outputs": [],
   "source": [
    "df_train['experian_experianProfileSummary_totalInquiriesCounter'].hist()"
   ]
  },
  {
   "cell_type": "code",
   "execution_count": null,
   "metadata": {},
   "outputs": [],
   "source": [
    "# for i in range(10):\n",
    "#   fig, ax = plt.subplots(figsize=(90, 90))\n",
    "#   xgb.plot_tree(model, num_trees=i, ax=ax)\n",
    "#   plt.show()"
   ]
  },
  {
   "cell_type": "code",
   "execution_count": null,
   "metadata": {},
   "outputs": [],
   "source": [
    "roc_auc_score(y, y_pred)"
   ]
  },
  {
   "cell_type": "code",
   "execution_count": null,
   "metadata": {},
   "outputs": [],
   "source": []
  }
 ],
 "metadata": {
  "kernelspec": {
   "display_name": ".venv",
   "language": "python",
   "name": "python3"
  },
  "language_info": {
   "codemirror_mode": {
    "name": "ipython",
    "version": 3
   },
   "file_extension": ".py",
   "mimetype": "text/x-python",
   "name": "python",
   "nbconvert_exporter": "python",
   "pygments_lexer": "ipython3",
   "version": "3.9.16"
  }
 },
 "nbformat": 4,
 "nbformat_minor": 2
}
